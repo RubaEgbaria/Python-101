{
  "metadata": {
    "language_info": {
      "codemirror_mode": {
        "name": "python",
        "version": 3
      },
      "file_extension": ".py",
      "mimetype": "text/x-python",
      "name": "python",
      "nbconvert_exporter": "python",
      "pygments_lexer": "ipython3",
      "version": "3.8"
    },
    "kernelspec": {
      "name": "python",
      "display_name": "Python (Pyodide)",
      "language": "python"
    }
  },
  "nbformat_minor": 4,
  "nbformat": 4,
  "cells": [
    {
      "cell_type": "code",
      "source": "import numpy as np\n\na = np.zeros(10)\nprint(a)\n\nb = np.full((2,10), 0.7)\nprint(b)\n\nc = np.linspace(0,25,7)\nprint(c)\n\nprint(type(c))\n",
      "metadata": {
        "trusted": true
      },
      "execution_count": 1,
      "outputs": [
        {
          "name": "stdout",
          "text": "[0. 0. 0. 0. 0. 0. 0. 0. 0. 0.]\n[[0.7 0.7 0.7 0.7 0.7 0.7 0.7 0.7 0.7 0.7]\n [0.7 0.7 0.7 0.7 0.7 0.7 0.7 0.7 0.7 0.7]]\n[ 0.          4.16666667  8.33333333 12.5        16.66666667 20.83333333\n 25.        ]\n<class 'numpy.ndarray'>\n",
          "output_type": "stream"
        }
      ]
    },
    {
      "cell_type": "code",
      "source": "def read_file(file_name):\n    \"\"\" Reads in a file.\n\n    [IMPLEMENT ME]\n        1. Open and read the given file into a variable using the File read()\n           function\n        2. Print the contents of the file\n        3. Return the contents of the file\n\n    Args:\n        file_name: the name of the file to be read\n\n    Returns:\n        string: contents of the given file.\n    \"\"\"\n    ### WRITE SOLUTION HERE\n    file = open(file_name, \"r\")\n    data = file.read()\n\n    print(data)\n    return data\n    file.close()\n    \n    raise NotImplementedError()\n\ndef read_file_into_list(file_name):\n    \"\"\" Reads in a file and stores each line as an element in a list\n\n    [IMPLEMENT ME]\n        1. Open the given file\n        2. Read the file line by line and append each line to a list\n        3. Return the list\n\n    Args:\n        file_name: the name of the file to be read\n\n    Returns:\n        list: a list where each element is a line in the file.\n    \"\"\"\n    ### WRITE SOLUTION HERE\n    list = [ ]\n    with open(file_name, \"r\") as file:\n        for eachline in file.readlines():\n            list.append(eachline)\n    \n    return list\n    raise NotImplementedError()\n\ndef write_first_line_to_file(file_contents, output_filename):\n    \"\"\" Writes the first line of a string to a file.\n\n    [IMPLEMENT ME]\n        1. Get the first line of file_contents\n        2. Use the File write() function to write the first line into a file\n           with the name from output_filename\n\n        We determine the first line to be everything in a string before the\n        first newline ('\\n') character.\n\n    Args:\n        file_contents: string to be split and written into output file\n        output_filename: the name of the file to be written to\n    \"\"\"\n    ### WRITE SOLUTION HERE\n    str = \"\"\n    for eachline in file_contents:\n        if (eachline == '\\n'):\n            break\n        str += eachline\n\n    with open(output_filename, 'w') as file:\n        new_line = file.write(str)\n\n    #raise NotImplementedError()\n\n\ndef read_even_numbered_lines(file_name):\n    \"\"\" Reads in the even numbered lines of a file\n\n    [IMPLEMENT ME]\n        1. Open and read the given file into a variable\n        2. Read the file line-by-line and add the even-numbered lines to a list\n        3. Return the list\n\n    Args:\n        file_name: the name of the file to be read\n\n    Returns:\n        list: a list of the even-numbered lines of the file\n    \"\"\"\n    ### WRITE SOLUTION HERE\n    list = [ ]\n    i = 1\n    with open(file_name, \"r\") as file:\n        for line in file.readlines():\n            if i % 2 == 0:\n                list.append(line)\n            i += 1\n    return list\n\n    raise NotImplementedError()\n\ndef read_file_in_reverse(file_name):\n    \"\"\" Reads a file and returns a list of the lines in reverse order\n\n    [IMPLEMENT ME]\n        1. Open and read the given file into a variable\n        2. Read the file line-by-line and store the lines in a list in reverse order\n        3. Print the list\n        4. Return the list\n\n    Args:\n        file_name: the name of the file to be read\n\n    Returns:\n        list: list of the lines of the file in reverse order.\n    \"\"\"\n    ### WRITE SOLUTION HERE\n    list = []\n    file = open(file_name, \"r\")\n    lines = file.readlines()\n    for line in reversed(lines):\n        list.append(line)\n    return list\n    file.close()\n    raise NotImplementedError()\n\n'''\nHere are some sample commands to help you run/test your implementations.\nFeel free to uncomment/modify/add to them as you wish.\n'''\ndef main():\n\n\n    file_contents = read_file(\"sampletext.txt\")\n    #print(read_file_into_list(\"sampletext.txt\"))\n    write_first_line_to_file(file_contents, \"online.txt\")\n    #print(read_even_numbered_lines(\"sampletext.txt\"))\n    #print(read_file_in_reverse(\"sampletext.txt\"))\n",
      "metadata": {
        "trusted": true
      },
      "execution_count": 38,
      "outputs": []
    },
    {
      "cell_type": "code",
      "source": "# Input data: List of dictionaries\nemployee_list = [\n   {\"id\": 12345, \"name\": \"John\", \"department\": \"Kitchen\"},\n   {\"id\": 12456, \"name\": \"Paul\", \"department\": \"House Floor\"},\n   {\"id\": 12478, \"name\": \"Sarah\", \"department\": \"Management\"},\n   {\"id\": 12434, \"name\": \"Lisa\", \"department\": \"Cold Storage\"},\n   {\"id\": 12483, \"name\": \"Ryan\", \"department\": \"Inventory Mgmt\"},\n   {\"id\": 12419, \"name\": \"Gill\", \"department\": \"Cashier\"}\n]\n\n# Function to be passed to the map() function. Do not change this.\ndef mod(employee_list):\n   temp = employee_list['name'] + \"_\" + employee_list[\"department\"]\n   return temp\n\ndef to_mod_list(employee_list):\n   \"\"\" Modifies the employee list of dictionaries into list of employee-department strings\n\n   [IMPLEMENT ME] \n      1. Use the map() method to apply mod() to all elements in employee_list\n\n   Args:\n      employee_list: list of employee objects\n\n   Returns:\n      list - A list of strings consisting of name + department.\n   \"\"\"\n   ### WRITE SOLUTION CODE HERE\n   li = list(map(mod,employee_list))\n  \n   return li\n   raise NotImplementedError()\n\ndef generate_usernames(mod_list):\n\n   \"\"\" Generates a list of usernames \n\n   [IMPLEMENT ME] \n      1. Use list comprehension and the replace() function to replace space\n         characters with underscores\n\n      List comprehension looks like:\n      list = [ function() for <item> in <list> ]\n\n      The format for the replace() function is:\n\n      test_str.replace(“a”, “z”) # replaces every “a” in test_str with “z”\n\n   Args:\n      mod_list: list of employee-department strings\n\n   Returns:\n      list - A list of usernames consisting of name + department delimited by underscores.\n   \"\"\"\n   ### WRITE SOLUTION CODE HERE\n   li = []\n   for i in mod_list:\n      li.append(i.replace(\" \",\"_\"))\n      \n   return li\n   raise NotImplementedError()\n\ndef map_id_to_initial(employee_list):\n   \"\"\" Maps employee id to first initial\n\n   [IMPLEMENT ME] \n      1. Use dictionary comprehension to map each employee's id (value) to the first letter in their name (key)\n\n      Dictionary comprehension looks like:\n      dict = { key : value for <item> in <list> }\n\n   Args:\n      employee_list: list of employee objects\n\n   Returns:\n      dict - A dictionary mapping an employee's id (value) to their first initial (key).\n   \"\"\"\n   ### WRITE SOLUTION CODE HERE\n   # d = dict()\n   d = {i['name'][0]:i['id'] for i in employee_list}\n   # for i in employee_list:\n   #    d[i['id']] = i['name'][0]\n   return d\n   raise NotImplementedError()\n\ndef main():\n   mod_emp_list = to_mod_list(employee_list)\n   print(\"Modified employee list: \" + str(mod_emp_list) + \"\\n\")\n\n   print(f\"List of usernames: {generate_usernames(mod_emp_list)}\\n\")\n   # map_id_to_initial(employee_list)\n   print(f\"Initials and ids: {map_id_to_initial(employee_list)}\")\n",
      "metadata": {
        "trusted": true
      },
      "execution_count": 39,
      "outputs": []
    },
    {
      "cell_type": "code",
      "source": "import numpy as np\n\na = np.zeros(10)\nprint(a)\n\nb = np.full((2,10), 0.7)\nprint(b)\n\nc = np.linspace(0,25,7)\nprint(c)\n\nprint(type(c))\n",
      "metadata": {
        "trusted": true
      },
      "execution_count": 40,
      "outputs": [
        {
          "name": "stdout",
          "text": "[0. 0. 0. 0. 0. 0. 0. 0. 0. 0.]\n[[0.7 0.7 0.7 0.7 0.7 0.7 0.7 0.7 0.7 0.7]\n [0.7 0.7 0.7 0.7 0.7 0.7 0.7 0.7 0.7 0.7]]\n[ 0.          4.16666667  8.33333333 12.5        16.66666667 20.83333333\n 25.        ]\n<class 'numpy.ndarray'>\n",
          "output_type": "stream"
        }
      ]
    },
    {
      "cell_type": "code",
      "source": "import pandas as pd\n\na = pd.DataFrame({'Animals': ['Dog','Cat','Lion','Cow','Elephant'],\n                    'Sounds':['Barks','Meow','Roars','Moo','Trumpet']})\n\nprint(a)\nprint(a.describe())\n\nb = pd.DataFrame({\n    \"Letters\" : ['a', 'b', 'c', 'd', 'e', 'f'],\n    \"Numbers\" : [12, 7, 9, 3, 5, 1]  })\n\nprint(b.sort_values(by=\"Numbers\"))\n\nb = b.assign(new_values = b['Numbers']*3)\nprint(b)\n\n",
      "metadata": {
        "trusted": true
      },
      "execution_count": 2,
      "outputs": [
        {
          "name": "stdout",
          "text": "    Animals   Sounds\n0       Dog    Barks\n1       Cat     Meow\n2      Lion    Roars\n3       Cow      Moo\n4  Elephant  Trumpet\n       Animals Sounds\ncount        5      5\nunique       5      5\ntop        Dog  Barks\nfreq         1      1\n  Letters  Numbers\n5       f        1\n3       d        3\n4       e        5\n1       b        7\n2       c        9\n0       a       12\n  Letters  Numbers  new_values\n0       a       12          36\n1       b        7          21\n2       c        9          27\n3       d        3           9\n4       e        5          15\n5       f        1           3\n",
          "output_type": "stream"
        }
      ]
    },
    {
      "cell_type": "code",
      "source": "# Import ABC and abstractmethod from the module abc (which stands for abstract base classes)\nfrom abc import ABC, abstractmethod\n\n# Class Bank\nclass Bank(ABC):\n    \"\"\" An abstract bank class\n\n    [IMPLEMENT ME]\n        1. This class must derive from class ABC\n        2. Write a basicinfo() function that prints out \"This is a generic bank\" and\n           returns the string \"Generic bank: 0\" \n        3. Define a second function called withdraw and keep it empty by\n           adding the `pass` keyword under it. Make this function abstract by\n           adding an '@abstractmethod' tag right above the function declaration.\n    \"\"\"\n    ### YOUR CODE HERE\n    def basicinfo(self):\n        print('This is a generic bank')\n        return 'Generic bank: 0'\n    \n    @abstractmethod\n    def withdraw():\n        pass\n\n# Class Swiss\nclass Swiss(Bank):\n    \"\"\" A specific type of bank than derives from class Bank\n\n    [IMPLEMENT ME]\n        1. This class must derive from class Bank\n        2. Create a constructor for this class that initializes a class\n           variable `bal` to 1000\n        3. Implement the basicinfo() function so that it prints \"This is the \n           Swiss Bank\" and returns a string with \"Swiss Bank: \" (don't forget\n           the space after the colon) followed by the current bank balance.\n\n           For example, if self.bal = 80, then it would return \"Swiss Bank: 80\"\n\n        4. Implement withdraw so that it takes one argument (in addition to\n           self) that is an integer which represents the amount to be withdrawn\n           from the bank. Deduct the withdrawn amount from the bank bal, print \n           the withdrawn amount (\"Withdrawn amount: {amount}\"), print the new\n           balance (\"New Balance: {self.bal}\"), and return the new balance.\n\n           Note: Make sure to verify that there is enough money to withdraw!  \n                 If amount is greater than balance, then do not deduct any \n                 money from the class variable `bal`. Instead, print a \n                 statement saying `\"Insufficient funds\"`, and return the \n                 original account balance instead.\n    \"\"\"\n    ### YOUR CODE HERE\n    def __init__(self):\n        self.bal = 1000\n\n\n    def basicinfo(self):\n        print(\"This is the Swiss Bank\")\n        return \"Swiss Bank: \" + str(self.bal)\n    def withdraw(self,amount):\n        if amount>self.bal:\n            print(\"Insufficient funds\")\n            return self.bal\n        self.bal = self.bal - amount\n        \n        print(\"Withdrawn amount: {}\".format(amount))\n        print(\"New Balance: {}\".format(self.bal))\n        return self.bal\n# Driver Code\ndef main():\n    assert issubclass(Bank, ABC), \"Bank must derive from class ABC\"\n    s = Swiss()\n    print(s.basicinfo())\n    s.withdraw(30)\n    s.withdraw(1000)\n",
      "metadata": {
        "trusted": true
      },
      "execution_count": 41,
      "outputs": []
    },
    {
      "cell_type": "code",
      "source": "\"\"\"\nimport nltk\nfrom tokenize import tokenize\n#import word_tokenize\nfrom nltk.corpus import stopwords\n\ntext = \"Lorem Ipsum is simply dummy text of the printing and typesetting industry. Lorem Ipsum has been the industry's standard dummy text ever since the 1500s, when an unknown printer took a galley of type and scrambled it to make a type specimen book.\"\n# Print statement 1\nprint(tokenize(text))\n# Print statement 2\nprint(nltk.tokenize.sent_tokenize(text))\n\n\nstopwords = stopwords.words(\"english\")\nnew_text = []\nfor i in text.split():\n    if i not in stopwords:\n        new_text.append(i)\n\n# Print statement 3\nprint(new_text)\n\"\"\"\n",
      "metadata": {
        "trusted": true
      },
      "execution_count": 21,
      "outputs": [
        {
          "execution_count": 21,
          "output_type": "execute_result",
          "data": {
            "text/plain": "'\\nimport nltk\\nfrom tokenize import tokenize\\n#import word_tokenize\\nfrom nltk.corpus import stopwords\\n\\ntext = \"Lorem Ipsum is simply dummy text of the printing and typesetting industry. Lorem Ipsum has been the industry\\'s standard dummy text ever since the 1500s, when an unknown printer took a galley of type and scrambled it to make a type specimen book.\"\\n# Print statement 1\\nprint(tokenize(text))\\n# Print statement 2\\nprint(nltk.tokenize.sent_tokenize(text))\\n\\n\\nstopwords = stopwords.words(\"english\")\\nnew_text = []\\nfor i in text.split():\\n    if i not in stopwords:\\n        new_text.append(i)\\n\\n# Print statement 3\\nprint(new_text)\\n'"
          },
          "metadata": {}
        }
      ]
    },
    {
      "cell_type": "code",
      "source": "\"\"\"\nBig Data and Analysis with Python\n\nRedShift and S3: Amazon services are used with their cloud services. S3 is a storage service and RedShift is a data warehousing service.\n\nBigQuery: Developed by Google, BigQuery is a Cloud service library that is useful with RESTful APIs.\n\nPySpark: This is an open-source framework used for large scale data processing and works with resilient distributed datasets.\n\nKafka: This is a publish-subscribe messaging system that receives logs in the form of packages and is stored in partitioned spaces.\n\nPydoop: Pydoop provides an interface between Hadoop and Python and support for handling its Hadoop distributed file systems.\n\"\"\"",
      "metadata": {
        "trusted": true
      },
      "execution_count": 4,
      "outputs": [
        {
          "execution_count": 4,
          "output_type": "execute_result",
          "data": {
            "text/plain": "'\\nBig Data and Analysis with Python\\n\\nRedShift and S3: Amazon services are used with their cloud services. S3 is a storage service and RedShift is a data warehousing service.\\n\\nBigQuery: Developed by Google, BigQuery is a Cloud service library that is useful with RESTful APIs.\\n\\nPySpark: This is an open-source framework used for large scale data processing and works with resilient distributed datasets.\\n\\nKafka: This is a publish-subscribe messaging system that receives logs in the form of packages and is stored in partitioned spaces.\\n\\nPydoop: Pydoop provides an interface between Hadoop and Python and support for handling its Hadoop distributed file systems.\\n'"
          },
          "metadata": {}
        }
      ]
    },
    {
      "cell_type": "code",
      "source": "# https://towardsdatascience.com/best-python-libraries-for-machine-learning-and-deep-learning-b0bd40c7e8c",
      "metadata": {
        "trusted": true
      },
      "execution_count": 5,
      "outputs": []
    },
    {
      "cell_type": "code",
      "source": "#Testing using pytest\n# Given implementations of some string-related methods. \n# DO NOT CHANGE THIS FILE\n\ndef word_count(sentence):\n    # Function to check the number of words. Returns the word count in string.\n    words = len(sentence.split())\n    print(words)\n    return words\n\ndef char_count(sentence):\n    # Function to check the number of characters. Returns the character count in string.\n    chars = len(sentence)\n    print(chars)\n    return chars\n\ndef first_char(sentence):\n    # Function to check the first character using the string index. Returns the first character in string.\n    first = sentence[0]\n    return first\n\ndef last_char(sentence):\n    # Function to check the last character using the string index. Returns the last character in string.\n    last = sentence[-1]\n    return last\n''' \nImport statements: \n    1. Import pytest and spellcheck modules\n'''",
      "metadata": {
        "trusted": true
      },
      "execution_count": 23,
      "outputs": [
        {
          "execution_count": 23,
          "output_type": "execute_result",
          "data": {
            "text/plain": "' \\nImport statements: \\n    1. Import pytest and spellcheck modules\\n'"
          },
          "metadata": {}
        }
      ]
    },
    {
      "cell_type": "code",
      "source": "\nimport pytest\n#import spellcheck\n\n### WRITE IMPORT STATEMENTS HERE\n\n# String variables to be tested\nalpha = \"Checking the length & structure of the sentence.\"\nbeta = \"This sentence should fail the test\"\n\n# Do not delete this function. You may change the value assigned to input to test different inputs to your test functions.\n@pytest.fixture\ndef input_value():\n    input = alpha\n    return input\n\n# First test function test_length()\ndef test_length(input_value):\n    \"\"\" Tests whether a string has fewer than 10 words and fewer than 50 chars.\n\n    [IMPLEMENT ME]\n        1. Use an assert statement to check the given string has fewer than 10 words\n        2. Use an assert statement to check the given string has fewer than 50 chars\n\n    Args:\n      input_value: a function that returns a string, which can be configured\n                   in the input_value() function\n    \"\"\"\n    ### WRITE SOLUTION CODE HERE\n    assert (spellcheck.word_count(input_value) < 10)\n    assert (spellcheck.char_count(input_value) < 50)\n #   raise NotImplementedError()\n\n# Second test function test_struc()\ndef test_struc(input_value):\n    \"\"\" Tests whether a string begins with a capital letter and ends with a period.\n\n    [IMPLEMENT ME]\n        1. Use an assert statement to check the given string begins with a capital letter\n        2. Use an assert statement to check the given string end with a period ('.')\n\n    Args:\n      input_value: a function that returns a string, which can be configured\n                   in the input_value() function\n    \"\"\"\n    ### WRITE SOLUTION CODE HERE\n    assert (spellcheck.first_char(input_value).isupper())\n    assert (spellcheck.last_char(input_value) == '.')\n #   raise NotImplementedError()\n\n# Run these tests with `python3 -m pytest test_spellcheck.py`",
      "metadata": {
        "trusted": true
      },
      "execution_count": 26,
      "outputs": []
    },
    {
      "cell_type": "code",
      "source": "names = [\"Anna\", \"Natasha\", \"Mike\"]\nnames.insert(2, \"Xi\")\nprint(names)",
      "metadata": {
        "trusted": true
      },
      "execution_count": 27,
      "outputs": [
        {
          "name": "stdout",
          "text": "['Anna', 'Natasha', 'Xi', 'Mike']\n",
          "output_type": "stream"
        }
      ]
    },
    {
      "cell_type": "code",
      "source": "sample_dict = {1: 'Coffee', 2: 'Tea', 3: 'Juice'}\nfor x in sample_dict:\n    print(x)",
      "metadata": {
        "trusted": true
      },
      "execution_count": 29,
      "outputs": [
        {
          "name": "stdout",
          "text": "1\n2\n3\n",
          "output_type": "stream"
        }
      ]
    },
    {
      "cell_type": "code",
      "source": "def recursion(num):\n    print(num)\n    next = num - 3\n    if next > 1:\n        recursion(next)\n\nrecursion(11)",
      "metadata": {
        "trusted": true
      },
      "execution_count": 30,
      "outputs": [
        {
          "name": "stdout",
          "text": "11\n8\n5\n2\n",
          "output_type": "stream"
        }
      ]
    },
    {
      "cell_type": "code",
      "source": "def d():\n    color = \"green\"\n    def e():\n        nonlocal color\n        color = \"yellow\"\n    e()\n    print(\"Color: \" + color)\n    color = \"red\"\ncolor = \"blue\"\nd()",
      "metadata": {
        "trusted": true
      },
      "execution_count": 33,
      "outputs": [
        {
          "name": "stdout",
          "text": "Color: yellow\n",
          "output_type": "stream"
        }
      ]
    },
    {
      "cell_type": "code",
      "source": "num = 9\nclass Car:\n    num = 5\n    bathrooms = 2\n\ndef cost_evaluation(num):\n    num = 10\n    return num\n\nclass Bike():\n    num = 11\n\ncost_evaluation(num)\ncar = Car()\nbike = Bike()\ncar.num = 7\nCar.num = 2\nprint(num)",
      "metadata": {
        "trusted": true
      },
      "execution_count": 34,
      "outputs": [
        {
          "name": "stdout",
          "text": "9\n",
          "output_type": "stream"
        }
      ]
    },
    {
      "cell_type": "code",
      "source": "class A:\n   def a(self):\n       return \"Function inside A\"\n\nclass B:\n   def a(self):\n       return \"Function inside B\"\n\nclass C:\n   pass\n\nclass D(C, A, B):\n   pass\n\nd = D()\nprint(d.a())",
      "metadata": {
        "trusted": true
      },
      "execution_count": 35,
      "outputs": [
        {
          "name": "stdout",
          "text": "Function inside A\n",
          "output_type": "stream"
        }
      ]
    },
    {
      "cell_type": "code",
      "source": "print(\"hi\")\n\ndef say_hello():\n    print(\"Hello there!\")\n\nprint(say_hello())\n\ncamelCase = \"rubaEgbaria\"\nsnake_case = \"ruba_egbaria\"\n\n# type casting \n\nx = 88.21\nprint(int(x)) # str(),float(),..\n\n# Modify the line below\nage = int(input('What is your age? '))\nprint(f\"Type of age variable is: {type(age)}. It should be <class 'int'>\")\n\n# inputs \n\nval = input(\" the value is : \")\nprint(val)\n\n# conditions\n# and contol flow\n#Starter Code\nfavorites = ['Creme Brulee', 'Apple Pie', 'Churros', 'Tiramisú', 'Chocolate Cake']\n\nfor dessert in favorites:\n    if dessert == 'Churros':\n        pass\n    print('Other desserts I like are', dessert) \n\n###################\n\nnum_list = [33,42,5,66,77,22,16,79,36,62,78,43,88,39,53,67,89,11]\n\ncount = 0\n\nfor x,num in enumerate(num_list):\n    count += 1\n    if num == 36:\n        print('Number found at ', x)\n        break\n\nprint(count)\ninput()\n\n# how to convert to binary from decimal ?\n",
      "metadata": {
        "trusted": true
      },
      "execution_count": 42,
      "outputs": [
        {
          "name": "stdout",
          "text": "hi\nHello there!\nNone\n88\n",
          "output_type": "stream"
        },
        {
          "ename": "<class 'TypeError'>",
          "evalue": "int() argument must be a string, a bytes-like object or a real number, not 'Future'",
          "traceback": [
            "\u001b[0;31m---------------------------------------------------------------------------\u001b[0m",
            "\u001b[0;31mTypeError\u001b[0m                                 Traceback (most recent call last)",
            "Cell \u001b[0;32mIn [42], line 17\u001b[0m\n\u001b[1;32m     14\u001b[0m \u001b[38;5;28mprint\u001b[39m(\u001b[38;5;28mint\u001b[39m(x)) \u001b[38;5;66;03m# str(),float(),..\u001b[39;00m\n\u001b[1;32m     16\u001b[0m \u001b[38;5;66;03m# Modify the line below\u001b[39;00m\n\u001b[0;32m---> 17\u001b[0m age \u001b[38;5;241m=\u001b[39m \u001b[38;5;28;43mint\u001b[39;49m\u001b[43m(\u001b[49m\u001b[38;5;28;43minput\u001b[39;49m\u001b[43m(\u001b[49m\u001b[38;5;124;43m'\u001b[39;49m\u001b[38;5;124;43mWhat is your age? \u001b[39;49m\u001b[38;5;124;43m'\u001b[39;49m\u001b[43m)\u001b[49m\u001b[43m)\u001b[49m\n\u001b[1;32m     18\u001b[0m \u001b[38;5;28mprint\u001b[39m(\u001b[38;5;124mf\u001b[39m\u001b[38;5;124m\"\u001b[39m\u001b[38;5;124mType of age variable is: \u001b[39m\u001b[38;5;132;01m{\u001b[39;00m\u001b[38;5;28mtype\u001b[39m(age)\u001b[38;5;132;01m}\u001b[39;00m\u001b[38;5;124m. It should be <class \u001b[39m\u001b[38;5;124m'\u001b[39m\u001b[38;5;124mint\u001b[39m\u001b[38;5;124m'\u001b[39m\u001b[38;5;124m>\u001b[39m\u001b[38;5;124m\"\u001b[39m)\n\u001b[1;32m     20\u001b[0m \u001b[38;5;66;03m# inputs \u001b[39;00m\n",
            "\u001b[0;31mTypeError\u001b[0m: int() argument must be a string, a bytes-like object or a real number, not 'Future'"
          ],
          "output_type": "error"
        },
        {
          "output_type": "stream",
          "name": "stdin",
          "text": "What is your age?  32\n"
        }
      ]
    },
    {
      "cell_type": "code",
      "source": "# list : \n\nlist1 = [ 1 , 2 , 3 , 5 ]\nlist2 = [ ' A ' , ' B ' , ' C ' ]\nlist3 = [ ' Hello ' , 1 , True , 40.22 ]\nlist4 = [ 1 , [ 2,3,4 ] , 5 , 6 ]\n\nlist1.insert ( len ( list1 ) , 6 )\nprint ( list1 , sep = \" \" )\n\n#or \n\nlist1.append(7)\nprint ( list1 , sep = \" \" )\n\n# to add more values at once \nlist1.extend ( [  8 , 9, 10 ] )\nprint ( list1 , sep = \" \" )\n\n# remove \nlist1.pop(2) # index 2 \ndel list1[2] # index 2\nprint ( list1 , sep = \" \" )\n\n# 2. tuples \n\nmy_tuple = (1 , ' strings ' , 4.5 , True, False)\nprint ( my_tuple.count ( ' strings ' ) )\nprint ( my_tuple.index(False))\n \n # anything declared in a tuple is immutable ( cant be changed )\n\n\n # sets \nset_a = { 1 , 2 , 3 ,4 ,5 } \nset_a.add ( 6 )\nset_a.discard(3) # value not index \nset_a.remove(2) # value not index \nprint ( set_a )\n\nset_b = { 4 , 5 , 6 , 7 , 8 }\nprint ( set_a.union ( set_b ) ) # = print ( set_a | set_b )\n\nprint ( set_a.intersection ( set_b ) ) # = print ( set_a & set_b )\n\nprint ( set_a.difference(set_b )) # = print ( set_a - set_b )\n\nprint ( set_a.symmetric_difference ( set_b ) ) # = print ( set_a ^ set_b )\n\n# the set is not a sequence, \n\n# dictionary \nsample_dict = { 1 : ' Coffee ' , 2 : ' Tea ' , 3 : ' Juice ' }\nsample_dict [ 2 ] = 'mint tea '\ndel sample_dict [ 3 ]\nprint(sample_dict)\n\n\n# args \ndef sum_of ( * args ) :\n   sum = 0\n   for x in args :\n       sum += x\n   return sum\nprint ( sum_of ( 4 , 5 , 6 , 4 , 5 , 6 ) )\n\n# kwargs \ndef sum_of ( ** kwargs ):\n    sum = 0\n    for k , v in kwargs.items ( ) :\n        sum += v\n    return round ( sum , 2 )\n#print ( sum_of ( coffee - 2.99 , cake - 4.55 , juice = 2.99 ) )\n\n# with args, you could pass in any amount of non-keyword variables.\n# With the kwargs, you can pass in any amount of keyword arguments.\n\n#examples\nemployee_list = [{\"id\": 12345, \"name\": \"John\", \"department\": \"Kitchen\"}, {\"id\": 12458, \"name\": \"Paul\", \"department\": \"House Floor\"}]\n\ndef get_employee(id): \n    for employee in employee_list:\n        if employee['id'] == id:\n            return employee\n\nprint(get_employee(12458));\n## OUTPUT\n{'id': 12458, 'name': 'Paul', 'department': 'House Floor'}\n\n# 2 \nemployee_dict = {\n    12345: {\n        \"id\": \"12345\",\n        \"name\": \"John\", \n        \"department\": \"Kitchen\"    \n    },\n    12458: {\n        \"id\": \"12458\",\n        \"name\": \"Paul\", \n        \"department\": \"House Floor\"    \n    }\n}\n\ndef get_employee_from_dict(id):\n    return employee_dict[id];\n\n\nprint(get_employee_from_dict(12458));\n## OUTPUT\n{'id': 12458, 'name': 'Paul', 'department': 'House Floor'}\n",
      "metadata": {
        "trusted": true
      },
      "execution_count": 44,
      "outputs": [
        {
          "name": "stdout",
          "text": "[1, 2, 3, 5, 6]\n[1, 2, 3, 5, 6, 7]\n[1, 2, 3, 5, 6, 7, 8, 9, 10]\n[1, 2, 6, 7, 8, 9, 10]\n1\n4\n{1, 4, 5, 6}\n{1, 4, 5, 6, 7, 8}\n{4, 5, 6}\n{1}\n{1, 7, 8}\n{1: ' Coffee ', 2: 'mint tea '}\n30\n{'id': 12458, 'name': 'Paul', 'department': 'House Floor'}\n{'id': '12458', 'name': 'Paul', 'department': 'House Floor'}\n",
          "output_type": "stream"
        },
        {
          "execution_count": 44,
          "output_type": "execute_result",
          "data": {
            "text/plain": "{'id': 12458, 'name': 'Paul', 'department': 'House Floor'}"
          },
          "metadata": {}
        }
      ]
    },
    {
      "cell_type": "code",
      "source": "# files in python\ndef read_file(file_name):\n    \"\"\" Reads in a file.\n\n    [IMPLEMENT ME]\n        1. Open and read the given file into a variable using the File read()\n           function\n        2. Print the contents of the file\n        3. Return the contents of the file\n\n    Args:\n        file_name: the name of the file to be read\n\n    Returns:\n        string: contents of the given file.\n    \"\"\"\n    ### WRITE SOLUTION HERE\n    file = open(file_name, \"r\")\n    data = file.read()\n\n    print(data)\n    return data\n    file.close()\n    \n    raise NotImplementedError()\n\ndef read_file_into_list(file_name):\n    \"\"\" Reads in a file and stores each line as an element in a list\n\n    [IMPLEMENT ME]\n        1. Open the given file\n        2. Read the file line by line and append each line to a list\n        3. Return the list\n\n    Args:\n        file_name: the name of the file to be read\n\n    Returns:\n        list: a list where each element is a line in the file.\n    \"\"\"\n    ### WRITE SOLUTION HERE\n    list = [ ]\n    with open(file_name, \"r\") as file:\n        for eachline in file.readlines():\n            list.append(eachline)\n    \n    return list\n    raise NotImplementedError()\n\ndef write_first_line_to_file(file_contents, output_filename):\n    \"\"\" Writes the first line of a string to a file.\n\n    [IMPLEMENT ME]\n        1. Get the first line of file_contents\n        2. Use the File write() function to write the first line into a file\n           with the name from output_filename\n\n        We determine the first line to be everything in a string before the\n        first newline ('\\n') character.\n\n    Args:\n        file_contents: string to be split and written into output file\n        output_filename: the name of the file to be written to\n    \"\"\"\n    ### WRITE SOLUTION HERE\n    str = \"\"\n    for eachline in file_contents:\n        if (eachline == '\\n'):\n            break\n        str += eachline\n\n    with open(output_filename, 'w') as file:\n        new_line = file.write(str)\n\n    #raise NotImplementedError()\n\n\ndef read_even_numbered_lines(file_name):\n    \"\"\" Reads in the even numbered lines of a file\n\n    [IMPLEMENT ME]\n        1. Open and read the given file into a variable\n        2. Read the file line-by-line and add the even-numbered lines to a list\n        3. Return the list\n\n    Args:\n        file_name: the name of the file to be read\n\n    Returns:\n        list: a list of the even-numbered lines of the file\n    \"\"\"\n    ### WRITE SOLUTION HERE\n    list = [ ]\n    i = 1\n    with open(file_name, \"r\") as file:\n        for line in file.readlines():\n            if i % 2 == 0:\n                list.append(line)\n            i += 1\n    return list\n\n    raise NotImplementedError()\n\ndef read_file_in_reverse(file_name):\n    \"\"\" Reads a file and returns a list of the lines in reverse order\n\n    [IMPLEMENT ME]\n        1. Open and read the given file into a variable\n        2. Read the file line-by-line and store the lines in a list in reverse order\n        3. Print the list\n        4. Return the list\n\n    Args:\n        file_name: the name of the file to be read\n\n    Returns:\n        list: list of the lines of the file in reverse order.\n    \"\"\"\n    ### WRITE SOLUTION HERE\n    list = []\n    file = open(file_name, \"r\")\n    lines = file.readlines()\n    for line in reversed(lines):\n        list.append(line)\n    return list\n    file.close()\n    raise NotImplementedError()\n\n'''\nHere are some sample commands to help you run/test your implementations.\nFeel free to uncomment/modify/add to them as you wish.\n'''\ndef main():\n\n\n    file_contents = read_file(\"sampletext.txt\")\n    #print(read_file_into_list(\"sampletext.txt\"))\n    write_first_line_to_file(file_contents, \"online.txt\")\n    #print(read_even_numbered_lines(\"sampletext.txt\"))\n    #print(read_file_in_reverse(\"sampletext.txt\"))\n",
      "metadata": {
        "trusted": true
      },
      "execution_count": 45,
      "outputs": []
    },
    {
      "cell_type": "markdown",
      "source": "",
      "metadata": {}
    }
  ]
}